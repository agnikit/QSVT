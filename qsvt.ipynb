{
 "cells": [
  {
   "cell_type": "markdown",
   "metadata": {},
   "source": [
    "# Quantum Singular Value Transformation (QSVT) \n",
    "\n",
    "In this work we will explore the Quantum Singular Value Transformation (QSVT), a framework that unifies many prominent quantum algorithms. "
   ]
  },
  {
   "cell_type": "markdown",
   "metadata": {},
   "source": [
    "## Quantum Signal Processing\n",
    "\n",
    "For pedagogical purposes, we would like to start the discussion of QSVT with Quantum Singular Processing (QSP). Following Martyn et al. [1], we will implement two \n",
    "quantum circuits. The first one computes the Chebyshev polynomial of the first kind of a real number $a$, while the second one we can realize the BB1 pulse sequence. \n"
   ]
  },
  {
   "cell_type": "code",
   "execution_count": 1,
   "metadata": {},
   "outputs": [],
   "source": [
    "# import libraries \n",
    "import numpy as np\n",
    "from qiskit import QuantumCircuit, QuantumRegister, ClassicalRegister, execute, Aer\n",
    "from scipy.special import chebyt\n",
    "from matplotlib import pyplot as plt\n",
    "import pyqsp"
   ]
  },
  {
   "cell_type": "code",
   "execution_count": 2,
   "metadata": {},
   "outputs": [],
   "source": [
    "# signal rotation operator \n",
    "def W(a): \n",
    "    '''\n",
    "    Return the signal rotation operator\n",
    "    Arguments: \n",
    "        a: the parameter of the signal rotation operator, i.e theta = -2acos(a)\n",
    "    Returns: \n",
    "        W: numpy array with the signal rotation operator\n",
    "    '''\n",
    "    return np.array([[a, 1j*np.sqrt(1-a**2)], [1j*np.sqrt(1-a**2), a]])\n",
    "\n",
    "# Quantum signal processing circuit\n",
    "def create_QSP_circuit(a,phi):\n",
    "    '''\n",
    "    Create a QSP circuit with parameters a and phi. \n",
    "    Arguments: \n",
    "        a  : rotation angle of the signal rotation operator.\n",
    "        phi: numpy array with the rotation phases\n",
    "    Returns: \n",
    "        qc :  a quantum circuit which implements the QSP \n",
    "    '''\n",
    "    q = QuantumRegister(1)\n",
    "    qc = QuantumCircuit(q)\n",
    "    # add the phi0 signal-processing rotation \n",
    "    qc.rz(phi[0],q)\n",
    "    # add the QSP rotations\n",
    "    for i in range(1,phi.size):\n",
    "        qc.unitary(W(a),q, label='W')\n",
    "        qc.rz(-2*phi[i],q)\n",
    "    return qc\n"
   ]
  },
  {
   "cell_type": "markdown",
   "metadata": {},
   "source": [
    "### Chebyshev polynomial with QSP \n",
    "\n",
    "Here, we calculate the Chebyshev polynomial of the first kind of order $n$ of a real number $a$. We should note that, in a real Quantum Computer, we don't have \n",
    "direct access to the calculated value, since it is encoded as a probability amplitude. So, in a sense, we \"cheat\" a little bit here. "
   ]
  },
  {
   "cell_type": "code",
   "execution_count": 3,
   "metadata": {},
   "outputs": [
    {
     "name": "stdout",
     "output_type": "stream",
     "text": [
      "a =  0.33\n",
      "order of the Chebyshev polynomial:  2\n",
      "Built-in Chebyshev polynomial value:  -0.7822\n",
      "Calculated Chebyshev polynomial value:  (-0.7822+0j)\n"
     ]
    }
   ],
   "source": [
    "# create the backend, it will be used to run all the circuits\n",
    "backend = Aer.get_backend('statevector_simulator')\n",
    "\n",
    "# create the circuit \n",
    "a = 0.33 # the real number a, for which we want to calculate the Chebyshev polynomial\n",
    "N = 2 ; # order of the Chebyshev polynomial\n",
    "phi = np.zeros(N+1) # \n",
    "print('a = ', a)\n",
    "print('order of the Chebyshev polynomial: ', N)\n",
    "\n",
    "qc = create_QSP_circuit(a,phi)\n",
    "\n",
    "\n",
    "# run the circuit and get the output statevector\n",
    "job = backend.run(qc)\n",
    "result = job.result()\n",
    "output_state = result.get_statevector(qc)\n",
    "calculated_chebyt = output_state.data[0]\n",
    "\n",
    "# calculate the Chebyshev polynomial \n",
    "chebyt_builtin = chebyt(N)(a)\n",
    "\n",
    "# print the results\n",
    "print('Built-in Chebyshev polynomial value: ', chebyt_builtin)\n",
    "print('Calculated Chebyshev polynomial value: ', calculated_chebyt)\n"
   ]
  },
  {
   "cell_type": "markdown",
   "metadata": {},
   "source": [
    "### BB1 Pulse\n",
    "\n",
    "We reproduce the Figure 1 of [1], which shows the BB1 pulse sequence."
   ]
  },
  {
   "cell_type": "code",
   "execution_count": 4,
   "metadata": {},
   "outputs": [
    {
     "data": {
      "image/png": "[encoded data removed]",
      "text/plain": [
       "<Figure size 774.904x84.28 with 1 Axes>"
      ]
     },
     "execution_count": 4,
     "metadata": {},
     "output_type": "execute_result"
    },
    {
     "data": {
      "image/png": "[encoded data removed]",
      "text/plain": [
       "<Figure size 432x288 with 1 Axes>"
      ]
     },
     "metadata": {
      "needs_background": "light"
     },
     "output_type": "display_data"
    }
   ],
   "source": [
    "eta = 1/2 * np.arccos(-1/4)\n",
    "phi = np.array([np.pi/2,-eta, 2*eta,0,-2*eta,eta])\n",
    "theta = np.linspace(-np.pi,np.pi,100)\n",
    "p = np.zeros(theta.size)\n",
    "s = np.zeros(theta.size)\n",
    "\n",
    "for i in range(theta.size):\n",
    "    qc = create_QSP_circuit(np.cos(-theta[i]/2),phi)\n",
    "    job = backend.run(qc)\n",
    "    result = job.result()\n",
    "    output_state = result.get_statevector(qc)\n",
    "    p[i]= np.abs(output_state.data[0])**2\n",
    "    qc = create_QSP_circuit(np.cos(-theta[i]/2),np.array([0,0]))\n",
    "    job = backend.run(qc)\n",
    "    result = job.result()\n",
    "    output_state = result.get_statevector(qc)\n",
    "    s[i]= np.abs(output_state.data[0])**2\n",
    "\n",
    "# plot the probability with respect to theta\n",
    "#p_theoretical = 1/8 * np.cos(theta/2)**2 *[3*np.cos(theta/2)**8 - 15*np.cos(theta/2)**6 + 35*np.cos(theta/2)**4 - 45*np.cos(theta/2)**2 + 30]\n",
    "plt.plot(theta,p, label = 'BB1')\n",
    "plt.plot(theta,s, label = 'Trivial')\n",
    "plt.legend()\n",
    "\n",
    "# plot the quantum signal processing circuit, for theta = -pi \n",
    "qc = create_QSP_circuit(np.cos(-theta[0]/2),phi)\n",
    "qc.draw(output = 'mpl')\n"
   ]
  },
  {
   "cell_type": "markdown",
   "metadata": {},
   "source": [
    "## Search by QSVT\n",
    "\n",
    "We will now use the QSVT to implement a search algorithm. Some remarks: \n",
    "1. The unitary matrix we wish to block encode is the $H^{\\otimes n}$, where $H$ is the Hadamard gate. In the paper they block encode the identity matrix, assuming that \n",
    "the initial state is the uniform superposition. Here, we assume that the initial state is the zero state and we block encode the $H^{\\otimes n}$ matrix. \n",
    "2. In order to apply the projector controlled phase shift, we used the fact that $e^{i(2P-1)x} = cos(x) + (2P-I)sin(x)$, where $P$ is the projector. This is relation \n",
    "can be easily proved by using the euler formula for the exponential function, expanding the sine and cosine functions as a power series and using the fact that $P^2 = P$.\n",
    "3. The phases for the sign approximation are calculated using the python library pyqsp. \n",
    "4. In general, in a search algorithm, we assume that we have an oracle that marks the solution. Using that oracle, we can implement the projector controlled phase shift to the marked state, even if we don't know the marked state. In our case, we just chose a random marked state and defined the projector that projects onto that state. This is not what we would do in a real search algorithm, but we assumed it here for simplicity. \n",
    "\n",
    "\n",
    "Possible improvements:\n",
    "1) Apply the projector controlled phase shift using an ancilla qubit and a projection. How the projection is actually implemented in a real quantum computer? Is it a generalized measurement?\n",
    "2) Use an oracle that marks a particular state."
   ]
  },
  {
   "cell_type": "code",
   "execution_count": 5,
   "metadata": {},
   "outputs": [],
   "source": [
    "def p_controlled_phase_shift(P, phi):\n",
    "    '''\n",
    "    Return the projector-controlled phase shift operator\n",
    "    '''\n",
    "    N = len(P)\n",
    "    return np.eye(N)*np.cos(phi)+1j*(2*P-np.eye(N))*np.sin(phi)\n",
    "\n",
    "\n",
    "def create_qsvt_circuit(U,PL,PR, phi, num_qubits):\n",
    "\n",
    "    '''\n",
    "    Create a QSVT circuit with parameters U, PL, PR and phi. \n",
    "    Arguments: \n",
    "        U  : the unitary operator, which block encodes the matrix of interest\n",
    "        PL : the left projector\n",
    "        PR : the right projector\n",
    "        phi: numpy array with the rotation phases\n",
    "    Returns: \n",
    "        qc :  a quantum circuit which implements the QSVT \n",
    "    '''\n",
    "    # create the quantum circuit\n",
    "    q = QuantumRegister(num_qubits)\n",
    "    qc = QuantumCircuit(q)\n",
    "\n",
    "\n",
    "    N = len(phi)\n",
    "    d = N - 1\n",
    "    if len(phi)%2 != 0:\n",
    "        # if the number of phases is odd, then the polynomial is of even degree, Pr = Pi and Pl = Pi_tilde\n",
    "        qc.unitary(p_controlled_phase_shift(PR,phi[-1]),q, label = (r'$\\widetilde{\\Pi}_{' + str(d)) + '}$')\n",
    "        for i in reversed(range((d//2))):\n",
    "            qc.unitary(U,q, label = (r'U'))\n",
    "            qc.unitary(p_controlled_phase_shift(PL,phi[2*i+1]),q, label = (r'$\\widetilde{\\Pi}_{' + str(2*i+1)) + '}$')\n",
    "            qc.unitary(U.T.conj(),q, label = (r'U$^\\dagger$'))\n",
    "            qc.unitary(p_controlled_phase_shift(PR,phi[2*i]),q, label = (r'$\\widetilde{\\Pi}_{' + str(2*i)) + '}$')\n",
    "    else:\n",
    "        # if the number of phases is even, then the polynomial is of odd degree\n",
    "        qc.unitary(p_controlled_phase_shift(PR,phi[d]),q, label = (r'$\\widetilde{\\Pi}_{' + str(d)) + '}$') \n",
    "        for i in reversed(range(1, (d-1)//2+1)):\n",
    "            qc.unitary(U,q, label = (r'U'))        \n",
    "            qc.unitary(p_controlled_phase_shift(PL,phi[2*i]),q, label = (r'$\\widetilde{\\Pi}_{' + str(2*i)) + '}$')\n",
    "            qc.unitary(U.T.conj(),q, label = (r'U$^\\dagger$'))\n",
    "            qc.unitary(p_controlled_phase_shift(PR,phi[2*i-1]),q, label = (r'$\\widetilde{\\Pi}_{' + str(2*i-1)) + '}$')\n",
    "        qc.unitary(U,q, label = (r'U'))\n",
    "        qc.unitary(p_controlled_phase_shift(PL,phi[0]),q, label = (r'$\\widetilde{\\Pi}_{' + str(0)) + '}$')\n",
    "    return qc\n",
    "\n",
    "def angles_from_W_to_R(phis):\n",
    "    \"\"\"Converts QSP angles from W-convention to R-convention.\"\"\"\n",
    "    # see page 27 of grand unification paper\n",
    "    phis = [phis[0]+(2*(len(phis)-1)-1)*np.pi/4] + [phi-np.pi/2 for phi in phis[1:-1]] + [phis[-1]-np.pi/4]\n",
    "    return phis \n",
    "\n",
    "def sign_approximating_polynomial(num_qubits):\n",
    "    \"\"\"Polynomial that approximates the step function theta(x) for x>= 1/N**0.5\"\"\"\n",
    "    \n",
    "    N = 2**num_qubits\n",
    "    target_function = pyqsp.poly.PolySign()\n",
    "    # we take the closest odd number to N**0.5. \n",
    "    degree = np.ceil(N**0.5) + (degree % 2 == 0)\n",
    "        \n",
    "    # this is connected to the width of our approximation\n",
    "    Delta = N**0.5\n",
    "    \n",
    "    # Find the polynomial approximation.\n",
    "    p = target_function.generate(degree, delta=Delta)\n",
    "    \n",
    "    return p"
   ]
  },
  {
   "cell_type": "markdown",
   "metadata": {},
   "source": [
    "### Polynomial approximation\n",
    "\n",
    "We show some approximations of the sign function using polynomials of different degrees. We can see that the approximation gets better as the degree of the polynomial increases."
   ]
  },
  {
   "cell_type": "code",
   "execution_count": 6,
   "metadata": {},
   "outputs": [
    {
     "name": "stdout",
     "output_type": "stream",
     "text": [
      "[pyqsp.poly.PolySign] degree=3, delta=2.0\n",
      "[PolyTaylorSeries] max [0.88487764] is at [0.89510929]: normalizing\n",
      "[PolyTaylorSeries] average error = 0.12112171443398506 in the domain [-1, 1] using degree 3\n",
      "[pyqsp.poly.PolySign] degree=3, delta=2.8284271247461903\n",
      "[PolyTaylorSeries] max [0.86327883] is at [0.86147542]: normalizing\n",
      "[PolyTaylorSeries] average error = 0.19244082131510504 in the domain [-1, 1] using degree 3\n",
      "[pyqsp.poly.PolySign] degree=5, delta=4.0\n",
      "[PolyTaylorSeries] max [0.90000001] is at [1.]: normalizing\n",
      "[PolyTaylorSeries] average error = 0.13772714862145935 in the domain [-1, 1] using degree 5\n",
      "[pyqsp.poly.PolySign] degree=7, delta=5.656854249492381\n",
      "[PolyTaylorSeries] max [0.89508306] is at [0.96694539]: normalizing\n",
      "[PolyTaylorSeries] average error = 0.138576375175681 in the domain [-1, 1] using degree 7\n",
      "[pyqsp.poly.PolySign] degree=9, delta=8.0\n",
      "[PolyTaylorSeries] max [0.9] is at [1.]: normalizing\n",
      "[PolyTaylorSeries] average error = 0.13632827412557 in the domain [-1, 1] using degree 9\n",
      "[pyqsp.poly.PolySign] degree=13, delta=11.313708498984761\n",
      "[PolyTaylorSeries] max [0.9] is at [1.]: normalizing\n",
      "[PolyTaylorSeries] average error = 0.1266522194134935 in the domain [-1, 1] using degree 13\n"
     ]
    },
    {
     "data": {
      "text/plain": [
       "<matplotlib.legend.Legend at 0x7fe44e0541f0>"
      ]
     },
     "execution_count": 6,
     "metadata": {},
     "output_type": "execute_result"
    },
    {
     "data": {
      "image/png": "[encoded data removed]",
      "text/plain": [
       "<Figure size 432x288 with 1 Axes>"
      ]
     },
     "metadata": {
      "needs_background": "light"
     },
     "output_type": "display_data"
    }
   ],
   "source": [
    "# check the polynomial approximation for different values of qubits \n",
    "N = np.arange(2,8)\n",
    "for n in N:\n",
    "    p = sign_approximating_polynomial(n)\n",
    "    x = np.linspace(-1,1,100)\n",
    "    plt.plot(x,p(x), label = 'N = '+str(n))\n",
    "\n",
    "# plot the sign function\n",
    "plt.plot(x,np.sign(x), label = 'sign function')\n",
    "plt.legend()\n",
    "\n"
   ]
  },
  {
   "cell_type": "markdown",
   "metadata": {},
   "source": [
    "Here we implement the actual search algorithm. We notice that using that circuit amplifies the probability of measuring the marked state, according to the approximation of sign function, i.e the probability amplitute after applying the circuit is equal to the value of the approximating polynomial. "
   ]
  },
  {
   "cell_type": "code",
   "execution_count": 7,
   "metadata": {},
   "outputs": [
    {
     "name": "stdout",
     "output_type": "stream",
     "text": [
      "[pyqsp.poly.PolySign] degree=5, delta=4.0\n",
      "[PolyTaylorSeries] max [0.90000001] is at [1.]: normalizing\n",
      "[PolyTaylorSeries] average error = 0.13772714862145935 in the domain [-1, 1] using degree 5\n",
      "Initial probability amplitude:  0.25\n",
      "[pyqsp.poly.PolySign] degree=5, delta=4.0\n",
      "[PolyTaylorSeries] max [0.90000001] is at [1.]: normalizing\n",
      "[PolyTaylorSeries] average error = 0.13772714862145935 in the domain [-1, 1] using degree 5\n",
      "Approximating polynomial value:  0.5591529553315698\n",
      "Probability amplitude after QSVT:  (0.5590970888592798+0.20579316989997803j)\n"
     ]
    }
   ],
   "source": [
    "from functools import reduce\n",
    "from pyqsp import angle_sequence\n",
    "\n",
    "np.random.seed(42)\n",
    "qubits = 4; \n",
    "\n",
    "# apply the hadamard gate to all qubits\n",
    "H = 1/np.sqrt(2)*np.array([[1,1],[1,-1]])\n",
    "U = reduce(np.kron, [H]*qubits)\n",
    "\n",
    "# Create the qsvt circuit\n",
    "\n",
    "# define the left projector\n",
    "all_zero_state = np.zeros(2**qubits) ; all_zero_state[0] = 1\n",
    "PR = np.outer(all_zero_state,all_zero_state.conj())\n",
    "# define the right projector\n",
    "r = np.random.randint(0,2**qubits)\n",
    "m = np.zeros(2**qubits) ; m[r] = 1\n",
    "PL = np.outer(m,m.conj())\n",
    "\n",
    "# Estimate the phases \n",
    "p = sign_approximating_polynomial(qubits)\n",
    "phi = pyqsp.angle_sequence.QuantumSignalProcessingPhases(p.coef, signal_operator='Wx')\n",
    "phi = angles_from_W_to_R(phi)\n",
    "\n",
    "# create the circuit\n",
    "backend = Aer.get_backend('statevector_simulator')\n",
    "qsvt_circuit = create_qsvt_circuit(U,PL,PR, phi, qubits)\n",
    "\n",
    "# run the circuit and get the output statevector\n",
    "job = backend.run(qsvt_circuit)\n",
    "result = job.result()\n",
    "output_state = np.array(result.get_statevector(qsvt_circuit))\n",
    "\n",
    "# find the probability of measuring the |m> state\n",
    "initial_prob_ampl = 1/np.sqrt(2**qubits)\n",
    "\n",
    "# find the overlap between the output state and the |m> state\n",
    "prob_ampl = output_state[r]\n",
    "\n",
    "# print the results\n",
    "print('Initial probability amplitude: ', initial_prob_ampl)\n",
    "print('Approximating polynomial value: ', sign_approximating_polynomial(qubits)(2**(-0.5*qubits)))\n",
    "print('Probability amplitude after QSVT: ', prob_ampl)\n"
   ]
  },
  {
   "cell_type": "code",
   "execution_count": 8,
   "metadata": {},
   "outputs": [
    {
     "data": {
      "image/png": "[encoded data removed]",
      "text/plain": [
       "<Figure size 788.321x264.88 with 1 Axes>"
      ]
     },
     "execution_count": 8,
     "metadata": {},
     "output_type": "execute_result"
    }
   ],
   "source": [
    "# draw the circuit\n",
    "qsvt_circuit.draw(output = 'mpl')"
   ]
  },
  {
   "cell_type": "markdown",
   "metadata": {},
   "source": [
    "## Solving Linear Systems of Equations"
   ]
  },
  {
   "cell_type": "markdown",
   "metadata": {},
   "source": [
    "## Hamiltonian Simulation"
   ]
  },
  {
   "cell_type": "markdown",
   "metadata": {},
   "source": []
  },
  {
   "cell_type": "markdown",
   "metadata": {},
   "source": [
    "## Quantum Phase Estimation"
   ]
  },
  {
   "cell_type": "markdown",
   "metadata": {},
   "source": []
  },
  {
   "cell_type": "markdown",
   "metadata": {},
   "source": [
    "## Literature\n",
    "[1] J. M. Martyn, Z. M. Rossi, A. K. Tan, and I. L. Chuang, A Grand Unification of Quantum Algorithms, PRX Quantum 2, (2021).\n",
    "\n",
    "[2] A. Gilyén, Y. Su, G. H. Low, and N. Wiebe, Quantum singular value transformation and beyond: Exponential improvements for quantum matrix arithmetics, Proceedings of the Annual ACM Symposium on Theory of Computing 193 (2019).\n",
    "\n",
    "[3] A. Gilyén, Quantum Singular Value Transformation& Its Algorithmic Applications, (2019).\n",
    "\n",
    "[4] I. Chuang and et al, Pyqsp: Quantum Signal Processing, (2022).\n",
    "\n",
    "[5] Introduction to Quantum Singular Value Transformation, https://idnm.github.io/blog/posts/quantum_singular_value_transformation_intro/\n"
   ]
  }
 ],
 "metadata": {
  "kernelspec": {
   "display_name": "Python 3",
   "language": "python",
   "name": "python3"
  },
  "language_info": {
   "codemirror_mode": {
    "name": "ipython",
    "version": 3
   },
   "file_extension": ".py",
   "mimetype": "text/x-python",
   "name": "python",
   "nbconvert_exporter": "python",
   "pygments_lexer": "ipython3",
   "version": "3.10.12"
  },
  "orig_nbformat": 4
 },
 "nbformat": 4,
 "nbformat_minor": 2
}
